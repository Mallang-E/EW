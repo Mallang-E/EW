{
 "cells": [
  {
   "cell_type": "code",
   "execution_count": 1,
   "id": "904f74aa",
   "metadata": {},
   "outputs": [],
   "source": [
    "# Import Braket libraries\n",
    "from braket.circuits import circuit, Circuit, Gate, Moments\n",
    "from braket.circuits.instruction import Instruction\n",
    "from braket.aws import AwsQuantumTask, AwsDevice\n",
    "from braket.devices import LocalSimulator\n",
    "import matplotlib.pyplot as plt\n",
    "\n",
    "# magic word for producing visualizations in notebook\n",
    "%matplotlib inline\n",
    "import numpy as np\n",
    "from math import pi"
   ]
  },
  {
   "cell_type": "code",
   "execution_count": 29,
   "id": "5000ab13",
   "metadata": {},
   "outputs": [],
   "source": [
    "@circuit.subroutine(register=True)\n",
    "def ch(control, target):\n",
    "    circ = Circuit().rz(target,pi/2).cnot(control,target).rz(target,-pi/2).ry(target,-pi/4).cnot(control,target).ry(target,pi/4).s(control)\n",
    "    \n",
    "    return circ"
   ]
  },
  {
   "cell_type": "code",
   "execution_count": 81,
   "id": "5dc8a651",
   "metadata": {},
   "outputs": [],
   "source": [
    "@circuit.subroutine(register=True)\n",
    "def w_observable():\n",
    "    circ = Circuit().ry(1,2*np.arccos(np.sqrt(1/3))).x(2).x(3).cnot(1,2).cnot(1,3).ch(1,2).cnot(2,3).h(0).cnot(0,1).cnot(0,2).cnot(0,3)\n",
    "    \n",
    "    return circ"
   ]
  },
  {
   "cell_type": "code",
   "execution_count": 84,
   "id": "d2a94378",
   "metadata": {},
   "outputs": [],
   "source": [
    "@circuit.subroutine(register=True)\n",
    "def prep_state():\n",
    "    circ = Circuit().x(0).x(1)\n",
    "    \n",
    "    return circ"
   ]
  },
  {
   "cell_type": "code",
   "execution_count": 69,
   "id": "1e82cf40",
   "metadata": {},
   "outputs": [],
   "source": [
    "@circuit.subroutine(register=True)\n",
    "def expt_rho_w():\n",
    "    tr_rho_w = Circuit()\n",
    "    tr_rho_w.add_circuit(w_observable())\n",
    "    tr_rho_w.add_circuit(prep_state())\n",
    "        \n",
    "    return tr_rho_w"
   ]
  },
  {
   "cell_type": "code",
   "execution_count": 60,
   "id": "804b20f3",
   "metadata": {},
   "outputs": [],
   "source": [
    "@circuit.subroutine(register=True)\n",
    "# TEST CONTROLLED HADAMARD GATE\n",
    "def test():\n",
    "    circ = Circuit().x(0).x(1).ch(0,1)\n",
    "    \n",
    "    return circ"
   ]
  },
  {
   "cell_type": "markdown",
   "id": "1ec93230",
   "metadata": {},
   "source": [
    "## Device: Classical Simulator"
   ]
  },
  {
   "cell_type": "markdown",
   "id": "fa9111eb",
   "metadata": {},
   "source": [
    "### state: 000"
   ]
  },
  {
   "cell_type": "code",
   "execution_count": 88,
   "id": "d0e2e126",
   "metadata": {},
   "outputs": [],
   "source": [
    "# set up device: Local Simulator\n",
    "device = AwsDevice(\"arn:aws:braket:::device/quantum-simulator/amazon/sv1\")\n",
    "\n",
    "# Please enter the S3 bucket you created during onboarding in the code below\n",
    "my_bucket = \"amazon-braket-qitkaistuser3\" # the name of the bucket\n",
    "my_prefix = \"observable-output\" # the name of the folder in the bucket\n",
    "s3_folder = (my_bucket, my_prefix)"
   ]
  },
  {
   "cell_type": "code",
   "execution_count": 54,
   "id": "c848e697",
   "metadata": {},
   "outputs": [
    {
     "name": "stdout",
     "output_type": "stream",
     "text": [
      "T  : |   0    |1|    2     |3|    4    |    5     |6|    7    |8|9|10|11|12|13|\n",
      "                                                                               \n",
      "q0 : -H--------------------------------------------------------C-C-C--C--C--H--\n",
      "                                                               | | |  |  |     \n",
      "q1 : -Ry(2.09)-C-C----------C----------------------C-S---------X-|-|--X--|-----\n",
      "               | |          |                      |             | |     |     \n",
      "q2 : -X--------X-|-Rz(1.57)-X-Rz(-1.57)-Ry(-0.785)-X-Ry(0.785)-C-X-|-----X-----\n",
      "                 |                                             |   |           \n",
      "q3 : -X----------X---------------------------------------------X---X-----------\n",
      "\n",
      "T  : |   0    |1|    2     |3|    4    |    5     |6|    7    |8|9|10|11|12|13|\n"
     ]
    }
   ],
   "source": [
    "# Quantum circuit for w-observable estimation\n",
    "print(expt_rho_w())"
   ]
  },
  {
   "cell_type": "code",
   "execution_count": 85,
   "id": "aa0a36a7",
   "metadata": {},
   "outputs": [
    {
     "data": {
      "image/png": "[encoded data removed]",
      "text/plain": [
       "<Figure size 432x288 with 1 Axes>"
      ]
     },
     "metadata": {
      "needs_background": "light"
     },
     "output_type": "display_data"
    }
   ],
   "source": [
    "shots = 5000\n",
    "num_qubits = 4\n",
    "task = device.run(expt_rho_w(), s3_folder, shots)\n",
    "counts = task.result().measurement_counts\n",
    "\n",
    "# bitstrings\n",
    "import numpy\n",
    "\n",
    "format_bitstring = '{0:0' + str(num_qubits) + 'b}'\n",
    "bitstring_keys = [format_bitstring.format(ii) for ii in range(2**num_qubits)]\n",
    "prob_values = [counts[bitstring_keys[ii]] / shots for ii in range(len(bitstring_keys))]\n",
    "prob_values = numpy.array(prob_values)\n",
    "\n",
    "# plot probabalities\n",
    "plt.bar(bitstring_keys, prob_values);\n",
    "plt.xlabel('bitstrings');\n",
    "plt.ylabel('probability');\n",
    "plt.xticks(rotation=45);"
   ]
  },
  {
   "cell_type": "code",
   "execution_count": 43,
   "id": "9face11e",
   "metadata": {},
   "outputs": [
    {
     "name": "stdout",
     "output_type": "stream",
     "text": [
      "T  : |   0    |1|    2    |    3     |4|    5    |\n",
      "                                                  \n",
      "q0 : ----------C----------------------C-S---------\n",
      "               |                      |           \n",
      "q1 : -Rz(1.57)-X-Rz(-1.57)-Ry(-0.785)-X-Ry(0.785)-\n",
      "\n",
      "T  : |   0    |1|    2    |    3     |4|    5    |\n"
     ]
    }
   ],
   "source": [
    "print(test())"
   ]
  },
  {
   "cell_type": "code",
   "execution_count": 61,
   "id": "e55a190d",
   "metadata": {},
   "outputs": [
    {
     "data": {
      "image/png": "[encoded data removed]",
      "text/plain": [
       "<Figure size 432x288 with 1 Axes>"
      ]
     },
     "metadata": {
      "needs_background": "light"
     },
     "output_type": "display_data"
    }
   ],
   "source": [
    "shots = 5000\n",
    "num_qubits = 4\n",
    "task = device.run(expt_rho_w(), s3_folder, shots)\n",
    "counts = task.result().measurement_counts\n",
    "\n",
    "# bitstrings\n",
    "import numpy\n",
    "\n",
    "format_bitstring = '{0:0' + str(num_qubits) + 'b}'\n",
    "bitstring_keys = [format_bitstring.format(ii) for ii in range(2**num_qubits)]\n",
    "prob_values = [counts[bitstring_keys[ii]] / shots for ii in range(len(bitstring_keys))]\n",
    "prob_values = numpy.array(prob_values)\n",
    "\n",
    "# plot probabalities\n",
    "plt.bar(bitstring_keys, prob_values);\n",
    "plt.xlabel('bitstrings');\n",
    "plt.ylabel('probability');\n",
    "plt.xticks(rotation=45);"
   ]
  },
  {
   "cell_type": "markdown",
   "id": "480fbfe2",
   "metadata": {},
   "source": [
    "### state: 000"
   ]
  },
  {
   "cell_type": "code",
   "execution_count": 89,
   "id": "6e4ab963",
   "metadata": {},
   "outputs": [
    {
     "data": {
      "image/png": "[encoded data removed]",
      "text/plain": [
       "<Figure size 432x288 with 1 Axes>"
      ]
     },
     "metadata": {
      "needs_background": "light"
     },
     "output_type": "display_data"
    }
   ],
   "source": [
    "@circuit.subroutine(register=True)\n",
    "def expt_rho1_w():\n",
    "    tr_rho_w = Circuit()\n",
    "    tr_rho_w.add_circuit(w_observable())\n",
    "        \n",
    "    return tr_rho_w\n",
    "\n",
    "shots = 5000\n",
    "num_qubits = 4\n",
    "task = device.run(expt_rho1_w(), s3_folder, shots)\n",
    "counts = task.result().measurement_counts\n",
    "\n",
    "# bitstrings\n",
    "import numpy\n",
    "\n",
    "format_bitstring = '{0:0' + str(num_qubits) + 'b}'\n",
    "bitstring_keys = [format_bitstring.format(ii) for ii in range(2**num_qubits)]\n",
    "prob_values = [counts[bitstring_keys[ii]] / shots for ii in range(len(bitstring_keys))]\n",
    "prob_values = numpy.array(prob_values)\n",
    "\n",
    "# plot probabalities\n",
    "plt.bar(bitstring_keys, prob_values);\n",
    "plt.xlabel('bitstrings');\n",
    "plt.ylabel('probability');\n",
    "plt.xticks(rotation=45);"
   ]
  },
  {
   "cell_type": "markdown",
   "id": "fcf3ec92",
   "metadata": {},
   "source": [
    "### state: GHZ_3"
   ]
  },
  {
   "cell_type": "code",
   "execution_count": 90,
   "id": "73df0b3a",
   "metadata": {},
   "outputs": [
    {
     "data": {
      "image/png": "[encoded data removed]",
      "text/plain": [
       "<Figure size 432x288 with 1 Axes>"
      ]
     },
     "metadata": {
      "needs_background": "light"
     },
     "output_type": "display_data"
    }
   ],
   "source": [
    "@circuit.subroutine(register=True)\n",
    "def expt_GHZ_w():\n",
    "    tr_rho_w = Circuit()\n",
    "    tr_rho_w.add_circuit(w_observable())\n",
    "    tr_rho_w.cnot(0,2).cnot(0,1).h(0)\n",
    "        \n",
    "    return tr_rho_w\n",
    "\n",
    "shots = 5000\n",
    "num_qubits = 4\n",
    "task = device.run(expt_GHZ_w(), s3_folder, shots)\n",
    "counts = task.result().measurement_counts\n",
    "\n",
    "# bitstrings\n",
    "import numpy\n",
    "\n",
    "format_bitstring = '{0:0' + str(num_qubits) + 'b}'\n",
    "bitstring_keys = [format_bitstring.format(ii) for ii in range(2**num_qubits)]\n",
    "prob_values = [counts[bitstring_keys[ii]] / shots for ii in range(len(bitstring_keys))]\n",
    "prob_values = numpy.array(prob_values)\n",
    "\n",
    "# plot probabalities\n",
    "plt.bar(bitstring_keys, prob_values);\n",
    "plt.xlabel('bitstrings');\n",
    "plt.ylabel('probability');\n",
    "plt.xticks(rotation=45);"
   ]
  },
  {
   "cell_type": "markdown",
   "id": "e81a3bc0",
   "metadata": {},
   "source": [
    "### state: 001"
   ]
  },
  {
   "cell_type": "code",
   "execution_count": 91,
   "id": "d91cadb3",
   "metadata": {},
   "outputs": [
    {
     "data": {
      "image/png": "[encoded data removed]",
      "text/plain": [
       "<Figure size 432x288 with 1 Axes>"
      ]
     },
     "metadata": {
      "needs_background": "light"
     },
     "output_type": "display_data"
    }
   ],
   "source": [
    "@circuit.subroutine(register=True)\n",
    "def expt_001_w():\n",
    "    tr_rho_w = Circuit()\n",
    "    tr_rho_w.add_circuit(w_observable())\n",
    "    tr_rho_w.x(2)\n",
    "        \n",
    "    return tr_rho_w\n",
    "\n",
    "shots = 5000\n",
    "num_qubits = 4\n",
    "task = device.run(expt_001_w(), s3_folder, shots)\n",
    "counts = task.result().measurement_counts\n",
    "\n",
    "# bitstrings\n",
    "import numpy\n",
    "\n",
    "format_bitstring = '{0:0' + str(num_qubits) + 'b}'\n",
    "bitstring_keys = [format_bitstring.format(ii) for ii in range(2**num_qubits)]\n",
    "prob_values = [counts[bitstring_keys[ii]] / shots for ii in range(len(bitstring_keys))]\n",
    "prob_values = numpy.array(prob_values)\n",
    "\n",
    "# plot probabalities\n",
    "plt.bar(bitstring_keys, prob_values);\n",
    "plt.xlabel('bitstrings');\n",
    "plt.ylabel('probability');\n",
    "plt.xticks(rotation=45);"
   ]
  },
  {
   "cell_type": "markdown",
   "id": "d7583b97",
   "metadata": {},
   "source": [
    "### state: 010"
   ]
  },
  {
   "cell_type": "code",
   "execution_count": 92,
   "id": "e3156f9e",
   "metadata": {},
   "outputs": [
    {
     "data": {
      "image/png": "[encoded data removed]",
      "text/plain": [
       "<Figure size 432x288 with 1 Axes>"
      ]
     },
     "metadata": {
      "needs_background": "light"
     },
     "output_type": "display_data"
    }
   ],
   "source": [
    "@circuit.subroutine(register=True)\n",
    "def expt_010_w():\n",
    "    tr_rho_w = Circuit()\n",
    "    tr_rho_w.add_circuit(w_observable())\n",
    "    tr_rho_w.x(1)\n",
    "        \n",
    "    return tr_rho_w\n",
    "\n",
    "shots = 5000\n",
    "num_qubits = 4\n",
    "task = device.run(expt_010_w(), s3_folder, shots)\n",
    "counts = task.result().measurement_counts\n",
    "\n",
    "# bitstrings\n",
    "import numpy\n",
    "\n",
    "format_bitstring = '{0:0' + str(num_qubits) + 'b}'\n",
    "bitstring_keys = [format_bitstring.format(ii) for ii in range(2**num_qubits)]\n",
    "prob_values = [counts[bitstring_keys[ii]] / shots for ii in range(len(bitstring_keys))]\n",
    "prob_values = numpy.array(prob_values)\n",
    "\n",
    "# plot probabalities\n",
    "plt.bar(bitstring_keys, prob_values);\n",
    "plt.xlabel('bitstrings');\n",
    "plt.ylabel('probability');\n",
    "plt.xticks(rotation=45);"
   ]
  },
  {
   "cell_type": "markdown",
   "id": "02b92fbf",
   "metadata": {},
   "source": [
    "### state: 100"
   ]
  },
  {
   "cell_type": "code",
   "execution_count": 93,
   "id": "a2334338",
   "metadata": {},
   "outputs": [
    {
     "data": {
      "image/png": "[encoded data removed]",
      "text/plain": [
       "<Figure size 432x288 with 1 Axes>"
      ]
     },
     "metadata": {
      "needs_background": "light"
     },
     "output_type": "display_data"
    }
   ],
   "source": [
    "@circuit.subroutine(register=True)\n",
    "def expt_100_w():\n",
    "    tr_rho_w = Circuit()\n",
    "    tr_rho_w.add_circuit(w_observable())\n",
    "    tr_rho_w.x(0)\n",
    "        \n",
    "    return tr_rho_w\n",
    "\n",
    "shots = 5000\n",
    "num_qubits = 4\n",
    "task = device.run(expt_100_w(), s3_folder, shots)\n",
    "counts = task.result().measurement_counts\n",
    "\n",
    "# bitstrings\n",
    "import numpy\n",
    "\n",
    "format_bitstring = '{0:0' + str(num_qubits) + 'b}'\n",
    "bitstring_keys = [format_bitstring.format(ii) for ii in range(2**num_qubits)]\n",
    "prob_values = [counts[bitstring_keys[ii]] / shots for ii in range(len(bitstring_keys))]\n",
    "prob_values = numpy.array(prob_values)\n",
    "\n",
    "# plot probabalities\n",
    "plt.bar(bitstring_keys, prob_values);\n",
    "plt.xlabel('bitstrings');\n",
    "plt.ylabel('probability');\n",
    "plt.xticks(rotation=45);"
   ]
  },
  {
   "cell_type": "markdown",
   "id": "5abfc142",
   "metadata": {},
   "source": [
    "### state: 011"
   ]
  },
  {
   "cell_type": "code",
   "execution_count": 94,
   "id": "ae07f406",
   "metadata": {},
   "outputs": [
    {
     "data": {
      "image/png": "[encoded data removed]",
      "text/plain": [
       "<Figure size 432x288 with 1 Axes>"
      ]
     },
     "metadata": {
      "needs_background": "light"
     },
     "output_type": "display_data"
    }
   ],
   "source": [
    "@circuit.subroutine(register=True)\n",
    "def expt_011_w():\n",
    "    tr_rho_w = Circuit()\n",
    "    tr_rho_w.add_circuit(w_observable())\n",
    "    tr_rho_w.x(1).x(2)\n",
    "        \n",
    "    return tr_rho_w\n",
    "\n",
    "shots = 5000\n",
    "num_qubits = 4\n",
    "task = device.run(expt_011_w(), s3_folder, shots)\n",
    "counts = task.result().measurement_counts\n",
    "\n",
    "# bitstrings\n",
    "import numpy\n",
    "\n",
    "format_bitstring = '{0:0' + str(num_qubits) + 'b}'\n",
    "bitstring_keys = [format_bitstring.format(ii) for ii in range(2**num_qubits)]\n",
    "prob_values = [counts[bitstring_keys[ii]] / shots for ii in range(len(bitstring_keys))]\n",
    "prob_values = numpy.array(prob_values)\n",
    "\n",
    "# plot probabalities\n",
    "plt.bar(bitstring_keys, prob_values);\n",
    "plt.xlabel('bitstrings');\n",
    "plt.ylabel('probability');\n",
    "plt.xticks(rotation=45);"
   ]
  },
  {
   "cell_type": "markdown",
   "id": "cecae4af",
   "metadata": {},
   "source": [
    "## Device: IonQ"
   ]
  },
  {
   "cell_type": "code",
   "execution_count": 96,
   "id": "fc01415a",
   "metadata": {},
   "outputs": [],
   "source": [
    "from braket.aws import AwsDevice\n",
    "\n",
    "# set up device: Local Simulator\n",
    "device = AwsDevice(\"arn:aws:braket:::device/qpu/ionq/ionQdevice\")\n",
    "\n",
    "# Please enter the S3 bucket you created during onboarding in the code below\n",
    "my_bucket = \"amazon-braket-qitkaistuser3\" # the name of the bucket\n",
    "my_prefix = \"observable_output\" # the name of the folder in the bucket\n",
    "s3_folder = (my_bucket, my_prefix)"
   ]
  },
  {
   "cell_type": "markdown",
   "id": "1072eb5a",
   "metadata": {},
   "source": [
    "### state: 000"
   ]
  },
  {
   "cell_type": "code",
   "execution_count": 97,
   "id": "c2e3822c",
   "metadata": {},
   "outputs": [
    {
     "data": {
      "image/png": "[encoded data removed]",
      "text/plain": [
       "<Figure size 432x288 with 1 Axes>"
      ]
     },
     "metadata": {
      "needs_background": "light"
     },
     "output_type": "display_data"
    }
   ],
   "source": [
    "@circuit.subroutine(register=True)\n",
    "def expt_rho1_w():\n",
    "    tr_rho_w = Circuit()\n",
    "    tr_rho_w.add_circuit(w_observable())\n",
    "        \n",
    "    return tr_rho_w\n",
    "\n",
    "shots = 5000\n",
    "num_qubits = 4\n",
    "task = device.run(expt_rho1_w(), s3_folder, shots)\n",
    "counts = task.result().measurement_counts\n",
    "\n",
    "# bitstrings\n",
    "import numpy\n",
    "\n",
    "format_bitstring = '{0:0' + str(num_qubits) + 'b}'\n",
    "bitstring_keys = [format_bitstring.format(ii) for ii in range(2**num_qubits)]\n",
    "prob_values = [counts[bitstring_keys[ii]] / shots for ii in range(len(bitstring_keys))]\n",
    "prob_values = numpy.array(prob_values)\n",
    "\n",
    "# plot probabalities\n",
    "plt.bar(bitstring_keys, prob_values);\n",
    "plt.xlabel('bitstrings');\n",
    "plt.ylabel('probability');\n",
    "plt.xticks(rotation=45);"
   ]
  },
  {
   "cell_type": "markdown",
   "id": "7eeb1b8d",
   "metadata": {},
   "source": [
    "### state: GHZ_3"
   ]
  },
  {
   "cell_type": "code",
   "execution_count": 98,
   "id": "d0e632a4",
   "metadata": {},
   "outputs": [
    {
     "data": {
      "image/png": "[encoded data removed]",
      "text/plain": [
       "<Figure size 432x288 with 1 Axes>"
      ]
     },
     "metadata": {
      "needs_background": "light"
     },
     "output_type": "display_data"
    }
   ],
   "source": [
    "@circuit.subroutine(register=True)\n",
    "def expt_GHZ_w():\n",
    "    tr_rho_w = Circuit()\n",
    "    tr_rho_w.add_circuit(w_observable())\n",
    "    tr_rho_w.cnot(0,2).cnot(0,1).h(0)\n",
    "        \n",
    "    return tr_rho_w\n",
    "\n",
    "shots = 5000\n",
    "num_qubits = 4\n",
    "task = device.run(expt_GHZ_w(), s3_folder, shots)\n",
    "counts = task.result().measurement_counts\n",
    "\n",
    "# bitstrings\n",
    "import numpy\n",
    "\n",
    "format_bitstring = '{0:0' + str(num_qubits) + 'b}'\n",
    "bitstring_keys = [format_bitstring.format(ii) for ii in range(2**num_qubits)]\n",
    "prob_values = [counts[bitstring_keys[ii]] / shots for ii in range(len(bitstring_keys))]\n",
    "prob_values = numpy.array(prob_values)\n",
    "\n",
    "# plot probabalities\n",
    "plt.bar(bitstring_keys, prob_values);\n",
    "plt.xlabel('bitstrings');\n",
    "plt.ylabel('probability');\n",
    "plt.xticks(rotation=45);"
   ]
  },
  {
   "cell_type": "markdown",
   "id": "47c466eb",
   "metadata": {},
   "source": [
    "### state: 001"
   ]
  },
  {
   "cell_type": "code",
   "execution_count": 99,
   "id": "b6e87379",
   "metadata": {},
   "outputs": [
    {
     "data": {
      "image/png": "[encoded data removed]",
      "text/plain": [
       "<Figure size 432x288 with 1 Axes>"
      ]
     },
     "metadata": {
      "needs_background": "light"
     },
     "output_type": "display_data"
    }
   ],
   "source": [
    "@circuit.subroutine(register=True)\n",
    "def expt_001_w():\n",
    "    tr_rho_w = Circuit()\n",
    "    tr_rho_w.add_circuit(w_observable())\n",
    "    tr_rho_w.x(2)\n",
    "        \n",
    "    return tr_rho_w\n",
    "\n",
    "shots = 5000\n",
    "num_qubits = 4\n",
    "task = device.run(expt_001_w(), s3_folder, shots)\n",
    "counts = task.result().measurement_counts\n",
    "\n",
    "# bitstrings\n",
    "import numpy\n",
    "\n",
    "format_bitstring = '{0:0' + str(num_qubits) + 'b}'\n",
    "bitstring_keys = [format_bitstring.format(ii) for ii in range(2**num_qubits)]\n",
    "prob_values = [counts[bitstring_keys[ii]] / shots for ii in range(len(bitstring_keys))]\n",
    "prob_values = numpy.array(prob_values)\n",
    "\n",
    "# plot probabalities\n",
    "plt.bar(bitstring_keys, prob_values);\n",
    "plt.xlabel('bitstrings');\n",
    "plt.ylabel('probability');\n",
    "plt.xticks(rotation=45);"
   ]
  },
  {
   "cell_type": "markdown",
   "id": "673a7a4f",
   "metadata": {},
   "source": [
    "### state: 010"
   ]
  },
  {
   "cell_type": "code",
   "execution_count": 100,
   "id": "b23d6232",
   "metadata": {},
   "outputs": [
    {
     "data": {
      "image/png": "[encoded data removed]",
      "text/plain": [
       "<Figure size 432x288 with 1 Axes>"
      ]
     },
     "metadata": {
      "needs_background": "light"
     },
     "output_type": "display_data"
    }
   ],
   "source": [
    "@circuit.subroutine(register=True)\n",
    "def expt_010_w():\n",
    "    tr_rho_w = Circuit()\n",
    "    tr_rho_w.add_circuit(w_observable())\n",
    "    tr_rho_w.x(1)\n",
    "        \n",
    "    return tr_rho_w\n",
    "\n",
    "shots = 5000\n",
    "num_qubits = 4\n",
    "task = device.run(expt_010_w(), s3_folder, shots)\n",
    "counts = task.result().measurement_counts\n",
    "\n",
    "# bitstrings\n",
    "import numpy\n",
    "\n",
    "format_bitstring = '{0:0' + str(num_qubits) + 'b}'\n",
    "bitstring_keys = [format_bitstring.format(ii) for ii in range(2**num_qubits)]\n",
    "prob_values = [counts[bitstring_keys[ii]] / shots for ii in range(len(bitstring_keys))]\n",
    "prob_values = numpy.array(prob_values)\n",
    "\n",
    "# plot probabalities\n",
    "plt.bar(bitstring_keys, prob_values);\n",
    "plt.xlabel('bitstrings');\n",
    "plt.ylabel('probability');\n",
    "plt.xticks(rotation=45);"
   ]
  },
  {
   "cell_type": "markdown",
   "id": "4cdc4fa9",
   "metadata": {},
   "source": [
    "### state: 100"
   ]
  },
  {
   "cell_type": "code",
   "execution_count": 101,
   "id": "792b19d6",
   "metadata": {},
   "outputs": [
    {
     "data": {
      "image/png": "[encoded data removed]",
      "text/plain": [
       "<Figure size 432x288 with 1 Axes>"
      ]
     },
     "metadata": {
      "needs_background": "light"
     },
     "output_type": "display_data"
    }
   ],
   "source": [
    "@circuit.subroutine(register=True)\n",
    "def expt_100_w():\n",
    "    tr_rho_w = Circuit()\n",
    "    tr_rho_w.add_circuit(w_observable())\n",
    "    tr_rho_w.x(0)\n",
    "        \n",
    "    return tr_rho_w\n",
    "\n",
    "shots = 5000\n",
    "num_qubits = 4\n",
    "task = device.run(expt_100_w(), s3_folder, shots)\n",
    "counts = task.result().measurement_counts\n",
    "\n",
    "# bitstrings\n",
    "import numpy\n",
    "\n",
    "format_bitstring = '{0:0' + str(num_qubits) + 'b}'\n",
    "bitstring_keys = [format_bitstring.format(ii) for ii in range(2**num_qubits)]\n",
    "prob_values = [counts[bitstring_keys[ii]] / shots for ii in range(len(bitstring_keys))]\n",
    "prob_values = numpy.array(prob_values)\n",
    "\n",
    "# plot probabalities\n",
    "plt.bar(bitstring_keys, prob_values);\n",
    "plt.xlabel('bitstrings');\n",
    "plt.ylabel('probability');\n",
    "plt.xticks(rotation=45);"
   ]
  },
  {
   "cell_type": "markdown",
   "id": "74b955a3",
   "metadata": {},
   "source": [
    "### state: 011"
   ]
  },
  {
   "cell_type": "code",
   "execution_count": 102,
   "id": "fdc26523",
   "metadata": {},
   "outputs": [
    {
     "data": {
      "image/png": "[encoded data removed]",
      "text/plain": [
       "<Figure size 432x288 with 1 Axes>"
      ]
     },
     "metadata": {
      "needs_background": "light"
     },
     "output_type": "display_data"
    }
   ],
   "source": [
    "@circuit.subroutine(register=True)\n",
    "def expt_011_w():\n",
    "    tr_rho_w = Circuit()\n",
    "    tr_rho_w.add_circuit(w_observable())\n",
    "    tr_rho_w.x(1).x(2)\n",
    "        \n",
    "    return tr_rho_w\n",
    "\n",
    "shots = 5000\n",
    "num_qubits = 4\n",
    "task = device.run(expt_011_w(), s3_folder, shots)\n",
    "counts = task.result().measurement_counts\n",
    "\n",
    "# bitstrings\n",
    "import numpy\n",
    "\n",
    "format_bitstring = '{0:0' + str(num_qubits) + 'b}'\n",
    "bitstring_keys = [format_bitstring.format(ii) for ii in range(2**num_qubits)]\n",
    "prob_values = [counts[bitstring_keys[ii]] / shots for ii in range(len(bitstring_keys))]\n",
    "prob_values = numpy.array(prob_values)\n",
    "\n",
    "# plot probabalities\n",
    "plt.bar(bitstring_keys, prob_values);\n",
    "plt.xlabel('bitstrings');\n",
    "plt.ylabel('probability');\n",
    "plt.xticks(rotation=45);"
   ]
  },
  {
   "cell_type": "code",
   "execution_count": null,
   "id": "e1a87c92",
   "metadata": {},
   "outputs": [],
   "source": []
  }
 ],
 "metadata": {
  "kernelspec": {
   "display_name": "conda_braket",
   "language": "python",
   "name": "conda_braket"
  },
  "language_info": {
   "codemirror_mode": {
    "name": "ipython",
    "version": 3
   },
   "file_extension": ".py",
   "mimetype": "text/x-python",
   "name": "python",
   "nbconvert_exporter": "python",
   "pygments_lexer": "ipython3",
   "version": "3.7.11"
  }
 },
 "nbformat": 4,
 "nbformat_minor": 5
}
